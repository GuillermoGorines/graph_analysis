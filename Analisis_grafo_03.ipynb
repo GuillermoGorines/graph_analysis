{
 "cells": [
  {
   "cell_type": "code",
   "execution_count": 1,
   "metadata": {},
   "outputs": [],
   "source": [
    "import networkx as nx\n",
    "from prettytable import PrettyTable\n",
    "import statistics"
   ]
  },
  {
   "cell_type": "code",
   "execution_count": 2,
   "metadata": {},
   "outputs": [
    {
     "data": {
      "text/plain": [
       "'\\ndef initial_graph_analysis(location):\\n    graph=nx.read_edgelist(location)\\n    \\n    print(\"La cantidad de nodos (grado) del grafo introducido es\", nx.number_of_nodes(graph),\".\")\\n    print(\"La cantidad de ramas (tamaño) del grafo introducido es\", nx.number_of_edges(graph),\".\")\\n    \\n    if nx.is_directed(graph):\\n        print(\"Se trata de un grafo dirigido.\")\\n    else:\\n        print(\"Se trata de un grafo no dirigido.\")\\n        \\n    if nx.is_connected(graph):\\n        print(\"Se trata de un grafo conexo.\")\\n    else:\\n        print(\"Se trata de un grafo no conexo.\")\\n    \\n    print(\"La densidad del grafo es de\",nx.density(graph),\".\")\\n'"
      ]
     },
     "execution_count": 2,
     "metadata": {},
     "output_type": "execute_result"
    }
   ],
   "source": [
    "\"\"\"\n",
    "def initial_graph_analysis(location):\n",
    "    graph=nx.read_edgelist(location)\n",
    "    \n",
    "    print(\"La cantidad de nodos (grado) del grafo introducido es\", nx.number_of_nodes(graph),\".\")\n",
    "    print(\"La cantidad de ramas (tamaño) del grafo introducido es\", nx.number_of_edges(graph),\".\")\n",
    "    \n",
    "    if nx.is_directed(graph):\n",
    "        print(\"Se trata de un grafo dirigido.\")\n",
    "    else:\n",
    "        print(\"Se trata de un grafo no dirigido.\")\n",
    "        \n",
    "    if nx.is_connected(graph):\n",
    "        print(\"Se trata de un grafo conexo.\")\n",
    "    else:\n",
    "        print(\"Se trata de un grafo no conexo.\")\n",
    "    \n",
    "    print(\"La densidad del grafo es de\",nx.density(graph),\".\")\n",
    "\"\"\""
   ]
  },
  {
   "cell_type": "code",
   "execution_count": 2,
   "metadata": {},
   "outputs": [],
   "source": [
    "def generate_random_compare(reiterations, location, analysis = False):\n",
    "    \n",
    "    # Se carga el grafo con el que comparar y se miden los parámetros de interés\n",
    "    \n",
    "    graph=nx.read_edgelist(location)\n",
    "    \n",
    "    grado=graph.number_of_nodes()\n",
    "    tamaño=graph.number_of_edges()\n",
    "    \n",
    "    if analysis == True:\n",
    "    \n",
    "        if nx.is_directed(graph):\n",
    "            directed = \"Si\"\n",
    "        else:\n",
    "            directed = \"No\"\n",
    "    \n",
    "        if nx.is_connected(graph):\n",
    "            connected = \"Si\"\n",
    "        else:\n",
    "            connected = \"No\"\n",
    "    \n",
    "        y = PrettyTable([\"Grado\",\"Tamaño\", \"Dirigido\",\"Conexo\",\"Densidad\"])\n",
    "        y.add_row([grado, tamaño, directed, connected, nx.density(graph) ])\n",
    "    \n",
    "        print(\"Análisis básico del grafo:\")\n",
    "        print(y)\n",
    "    \n",
    "    if nx.number_of_selfloops(graph) > 0:\n",
    "        graph.remove_edges_from(nx.selfloop_edges(graph))\n",
    "    \n",
    "    betweenness = sum(nx.betweenness_centrality(graph).values())/grado\n",
    "    \n",
    "    clustering = nx.average_clustering(graph)\n",
    "    \n",
    "    closeness = sum(nx.closeness_centrality(graph).values())/grado\n",
    "    \n",
    "    all_centrality = nx.degree_centrality(graph)\n",
    "    centrality = sum(all_centrality.values())/nx.number_of_nodes(graph)\n",
    "    \n",
    "    all_cores = nx.core_number(graph)\n",
    "    kcore = max(all_cores.values())\n",
    "        \n",
    "    density = nx.density(graph)\n",
    "    \n",
    "    random_count_betweenness = []\n",
    "    random_count_closeness = []\n",
    "    random_count_clustering = []\n",
    "    random_count_centrality = []\n",
    "    random_count_kcore = []\n",
    "    random_count_density = []\n",
    "    \n",
    "    # Se realizan X grafos aleatorios y se añaden a las listas anteriores sus parámetros\n",
    "    \n",
    "    for _ in range(reiterations):\n",
    "        \n",
    "        random = nx.gnm_random_graph(grado,tamaño)\n",
    "        \n",
    "        random_count_betweenness.append(sum(nx.betweenness_centrality(random).values())/grado)\n",
    "\n",
    "        random_count_closeness.append(sum(nx.closeness_centrality(random).values())/grado)\n",
    "        \n",
    "        random_count_clustering.append(nx.average_clustering(random))\n",
    "        \n",
    "        all_random_centrality=nx.degree_centrality(random)\n",
    "        random_count_centrality.append(sum(all_random_centrality.values())/nx.number_of_edges(random))\n",
    "        \n",
    "        cores=nx.core_number(random)\n",
    "        random_count_kcore.append(max(cores.values()))\n",
    "        \n",
    "        random_count_density.append(nx.density(random))\n",
    "    \n",
    "    # Se obtiene la cantidad relativa de veces que se ha igualado o superado cada parámetro\n",
    "    \n",
    "    p_value_betweenness = sum(map(lambda x : x >= betweenness ,random_count_betweenness))/len(random_count_betweenness)\n",
    "    p_value_closeness = sum(map(lambda x : x >= closeness ,random_count_closeness))/len(random_count_closeness)\n",
    "    p_value_clustering = sum(map(lambda x : x >= clustering,random_count_clustering))/len(random_count_clustering)\n",
    "    p_value_centrality = sum(map(lambda x : x >= centrality,random_count_centrality))/len(random_count_centrality)\n",
    "    p_value_kcore = sum(map(lambda x : x >= kcore,random_count_kcore))/len(random_count_kcore)\n",
    "    p_value_density = sum(map(lambda x : x >= density,random_count_density))/len(random_count_density)\n",
    "    \n",
    "    # Se genera una tabla para facilidad de observación de resultados\n",
    "    \n",
    "    \n",
    "    \n",
    "    x = PrettyTable([\"Parameter\",\"Value in graph\", \"Value in random\", \"P-value\",\"Random Graphs Generated\"])\n",
    "    x.add_row([\"Betweenness\",betweenness, statistics.mean(random_count_betweenness), p_value_betweenness, reiterations])\n",
    "    x.add_row([\"Closeness\",closeness, statistics.mean(random_count_closeness),p_value_closeness, reiterations])\n",
    "    x.add_row([\"Clustering\",clustering, statistics.mean(random_count_clustering), p_value_clustering, reiterations])\n",
    "    x.add_row([\"Centrality\",centrality, statistics.mean(random_count_centrality), p_value_centrality, reiterations])\n",
    "    x.add_row([\"K-cores\",kcore, statistics.mean(random_count_kcore), p_value_kcore,reiterations])\n",
    "    \n",
    "    print(\"\\n\",\"Comparación del grafo con grafos aleatorios\")\n",
    "    return x\n"
   ]
  },
  {
   "cell_type": "code",
   "execution_count": 3,
   "metadata": {
    "scrolled": true
   },
   "outputs": [
    {
     "name": "stdout",
     "output_type": "stream",
     "text": [
      "Análisis básico del grafo:\n",
      "+-------+--------+----------+--------+-------------------+\n",
      "| Grado | Tamaño | Dirigido | Conexo |      Densidad     |\n",
      "+-------+--------+----------+--------+-------------------+\n",
      "|   54  |  353   |    No    |   Si   | 0.246680642907058 |\n",
      "+-------+--------+----------+--------+-------------------+\n",
      "\n",
      " Comparación del grafo con grafos aleatorios\n",
      "+-------------+----------------------+----------------------+---------+-------------------------+\n",
      "|  Parameter  |    Value in graph    |   Value in random    | P-value | Random Graphs Generated |\n",
      "+-------------+----------------------+----------------------+---------+-------------------------+\n",
      "| Betweenness | 0.014634736332849537 | 0.014968015911412138 |   1.0   |            10           |\n",
      "|  Closeness  |  0.5733438354455607  |  0.5635747456493093  |   0.0   |            10           |\n",
      "|  Clustering | 0.41278095937953413  |  0.2449680050486387  |   0.0   |            10           |\n",
      "|  Centrality | 0.24458420684835783  | 0.03773584905660378  |   0.0   |            10           |\n",
      "|   K-cores   |          10          |         9.2          |   0.2   |            10           |\n",
      "+-------------+----------------------+----------------------+---------+-------------------------+\n"
     ]
    }
   ],
   "source": [
    "print(generate_random_compare(10, \"eco_edges.txt\",True))"
   ]
  }
 ],
 "metadata": {
  "kernelspec": {
   "display_name": "Python 3",
   "language": "python",
   "name": "python3"
  },
  "language_info": {
   "codemirror_mode": {
    "name": "ipython",
    "version": 3
   },
   "file_extension": ".py",
   "mimetype": "text/x-python",
   "name": "python",
   "nbconvert_exporter": "python",
   "pygments_lexer": "ipython3",
   "version": "3.7.3"
  }
 },
 "nbformat": 4,
 "nbformat_minor": 2
}
