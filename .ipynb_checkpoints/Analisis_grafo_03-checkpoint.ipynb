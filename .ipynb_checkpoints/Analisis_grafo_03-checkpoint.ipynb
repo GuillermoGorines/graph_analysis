{
 "cells": [
  {
   "cell_type": "code",
   "execution_count": 11,
   "metadata": {},
   "outputs": [],
   "source": [
    "import networkx as nx\n",
    "from prettytable import PrettyTable\n",
    "import statistics\n",
    "import matplotlib.pyplot as plt\n",
    "import math"
   ]
  },
  {
   "cell_type": "code",
   "execution_count": 6,
   "metadata": {},
   "outputs": [
    {
     "data": {
      "text/plain": [
       "'\\ndef initial_graph_analysis(location):\\n    graph=nx.read_edgelist(location)\\n    \\n    print(\"La cantidad de nodos (grado) del grafo introducido es\", nx.number_of_nodes(graph),\".\")\\n    print(\"La cantidad de ramas (tamaño) del grafo introducido es\", nx.number_of_edges(graph),\".\")\\n    \\n    if nx.is_directed(graph):\\n        print(\"Se trata de un grafo dirigido.\")\\n    else:\\n        print(\"Se trata de un grafo no dirigido.\")\\n        \\n    if nx.is_connected(graph):\\n        print(\"Se trata de un grafo conexo.\")\\n    else:\\n        print(\"Se trata de un grafo no conexo.\")\\n    \\n    print(\"La densidad del grafo es de\",nx.density(graph),\".\")\\n'"
      ]
     },
     "execution_count": 6,
     "metadata": {},
     "output_type": "execute_result"
    }
   ],
   "source": [
    "\"\"\"\n",
    "def initial_graph_analysis(location):\n",
    "    graph=nx.read_edgelist(location)\n",
    "    \n",
    "    print(\"La cantidad de nodos (grado) del grafo introducido es\", nx.number_of_nodes(graph),\".\")\n",
    "    print(\"La cantidad de ramas (tamaño) del grafo introducido es\", nx.number_of_edges(graph),\".\")\n",
    "    \n",
    "    if nx.is_directed(graph):\n",
    "        print(\"Se trata de un grafo dirigido.\")\n",
    "    else:\n",
    "        print(\"Se trata de un grafo no dirigido.\")\n",
    "        \n",
    "    if nx.is_connected(graph):\n",
    "        print(\"Se trata de un grafo conexo.\")\n",
    "    else:\n",
    "        print(\"Se trata de un grafo no conexo.\")\n",
    "    \n",
    "    print(\"La densidad del grafo es de\",nx.density(graph),\".\")\n",
    "\"\"\""
   ]
  },
  {
   "cell_type": "code",
   "execution_count": 19,
   "metadata": {},
   "outputs": [],
   "source": [
    "def generate_random_compare(reiterations, location, analysis = False):\n",
    "    \n",
    "    # Se carga el grafo con el que comparar y se miden los parámetros de interés\n",
    "    \n",
    "    graph=nx.read_edgelist(location)\n",
    "    \n",
    "    grado=graph.number_of_nodes()\n",
    "    tamaño=graph.number_of_edges()\n",
    "    \n",
    "    if analysis == True:\n",
    "    \n",
    "        if nx.is_directed(graph):\n",
    "            directed = \"Si\"\n",
    "        else:\n",
    "            directed = \"No\"\n",
    "    \n",
    "        if nx.is_connected(graph):\n",
    "            connected = \"Si\"\n",
    "        else:\n",
    "            connected = \"No\"\n",
    "    \n",
    "        y = PrettyTable([\"Grado\",\"Tamaño\", \"Dirigido\",\"Conexo\",\"Densidad\"])\n",
    "        y.add_row([grado, tamaño, directed, connected, nx.density(graph) ])\n",
    "    \n",
    "        print(\"Análisis básico del grafo:\")\n",
    "        print(y)\n",
    "    \n",
    "    if nx.number_of_selfloops(graph) > 0:\n",
    "        graph.remove_edges_from(nx.selfloop_edges(graph))\n",
    "    \n",
    "    betweenness = sum(nx.betweenness_centrality(graph).values())/grado\n",
    "    \n",
    "    clustering = nx.average_clustering(graph)\n",
    "    \n",
    "    closeness = sum(nx.closeness_centrality(graph).values())/grado\n",
    "    \n",
    "    all_centrality = nx.degree_centrality(graph)\n",
    "    centrality = sum(all_centrality.values())/nx.number_of_nodes(graph)\n",
    "    \n",
    "    all_cores = nx.core_number(graph)\n",
    "    kcore = max(all_cores.values())\n",
    "        \n",
    "    density = nx.density(graph)\n",
    "    \n",
    "    random_count_betweenness = []\n",
    "    random_count_closeness = []\n",
    "    random_count_clustering = []\n",
    "    random_count_centrality = []\n",
    "    random_count_kcore = []\n",
    "    random_count_density = []\n",
    "    \n",
    "    # Se realizan X grafos aleatorios y se añaden a las listas anteriores sus parámetros\n",
    "    \n",
    "    for _ in range(reiterations):\n",
    "        \n",
    "        random = nx.gnm_random_graph(grado,tamaño)\n",
    "        \n",
    "        random_count_betweenness.append(sum(nx.betweenness_centrality(random).values())/grado)\n",
    "\n",
    "        random_count_closeness.append(sum(nx.closeness_centrality(random).values())/grado)\n",
    "        \n",
    "        random_count_clustering.append(nx.average_clustering(random))\n",
    "        \n",
    "        all_random_centrality=nx.degree_centrality(random)\n",
    "        random_count_centrality.append(sum(all_random_centrality.values())/nx.number_of_edges(random))\n",
    "        \n",
    "        cores=nx.core_number(random)\n",
    "        random_count_kcore.append(max(cores.values()))\n",
    "        \n",
    "        random_count_density.append(nx.density(random))\n",
    "    \n",
    "    # Se obtiene la cantidad relativa de veces que se ha igualado o superado cada parámetro\n",
    "    \n",
    "    p_value_betweenness = sum(map(lambda x : x >= betweenness ,random_count_betweenness))/len(random_count_betweenness)\n",
    "    p_value_closeness = sum(map(lambda x : x >= closeness ,random_count_closeness))/len(random_count_closeness)\n",
    "    p_value_clustering = sum(map(lambda x : x >= clustering,random_count_clustering))/len(random_count_clustering)\n",
    "    p_value_centrality = sum(map(lambda x : x >= centrality,random_count_centrality))/len(random_count_centrality)\n",
    "    p_value_kcore = sum(map(lambda x : x >= kcore,random_count_kcore))/len(random_count_kcore)\n",
    "    p_value_density = sum(map(lambda x : x >= density,random_count_density))/len(random_count_density)\n",
    "    \n",
    "    # Se genera una tabla para facilidad de observación de resultados\n",
    "    \n",
    "    \n",
    "    \n",
    "    x = PrettyTable([\"Parameter\",\"Value in graph\", \"Value in random\", \"P-value\",\"Random Graphs Generated\"])\n",
    "    x.add_row([\"Betweenness\",betweenness, statistics.mean(random_count_betweenness), p_value_betweenness, reiterations])\n",
    "    x.add_row([\"Closeness\",closeness, statistics.mean(random_count_closeness),p_value_closeness, reiterations])\n",
    "    x.add_row([\"Clustering\",clustering, statistics.mean(random_count_clustering), p_value_clustering, reiterations])\n",
    "    x.add_row([\"Centrality\",centrality, statistics.mean(random_count_centrality), p_value_centrality, reiterations])\n",
    "    x.add_row([\"K-cores\",kcore, statistics.mean(random_count_kcore), p_value_kcore,reiterations])\n",
    "    \n",
    "    print(\"\\n\",\"Comparación del grafo con grafos aleatorios\")\n",
    "    return x\n"
   ]
  },
  {
   "cell_type": "code",
   "execution_count": 23,
   "metadata": {
    "scrolled": true
   },
   "outputs": [
    {
     "name": "stdout",
     "output_type": "stream",
     "text": [
      "Análisis básico del grafo:\n",
      "+-------+--------+----------+--------+-------------------+\n",
      "| Grado | Tamaño | Dirigido | Conexo |      Densidad     |\n",
      "+-------+--------+----------+--------+-------------------+\n",
      "|   54  |  353   |    No    |   Si   | 0.246680642907058 |\n",
      "+-------+--------+----------+--------+-------------------+\n",
      "\n",
      " Comparación del grafo con grafos aleatorios\n",
      "+-------------+----------------------+----------------------+---------+-------------------------+\n",
      "|  Parameter  |    Value in graph    |   Value in random    | P-value | Random Graphs Generated |\n",
      "+-------------+----------------------+----------------------+---------+-------------------------+\n",
      "| Betweenness | 0.014634736332849537 | 0.015040584851905606 |   1.0   |            10           |\n",
      "|  Closeness  |  0.5733438354455607  |  0.562513612848208   |   0.0   |            10           |\n",
      "|  Clustering | 0.41278095937953413  |  0.2506410209142669  |   0.0   |            10           |\n",
      "|  Centrality | 0.24458420684835783  | 0.03773584905660378  |   0.0   |            10           |\n",
      "|   K-cores   |          10          |         9.2          |   0.2   |            10           |\n",
      "+-------------+----------------------+----------------------+---------+-------------------------+\n"
     ]
    },
    {
     "data": {
      "text/plain": [
       "(0.014634736332849537,\n",
       " [0.015091651884104714,\n",
       "  0.015024458420684839,\n",
       "  0.015024458420684835,\n",
       "  0.015051335806052786,\n",
       "  0.014809439337741225,\n",
       "  0.015064774498736763,\n",
       "  0.01511852926947267,\n",
       "  0.015226038810944469,\n",
       "  0.014957264957264958,\n",
       "  0.015037897113368804],\n",
       " 0.5733438354455607,\n",
       " [0.562074075138087,\n",
       "  0.5625868865575634,\n",
       "  0.5626060662581539,\n",
       "  0.5621212216941425,\n",
       "  0.5658508229329131,\n",
       "  0.562172844860832,\n",
       "  0.5613764063358487,\n",
       "  0.5599860296131086,\n",
       "  0.5636586472138062,\n",
       "  0.5627031278776247],\n",
       " 0.41278095937953413,\n",
       " [0.2519306931458634,\n",
       "  0.24582760386423957,\n",
       "  0.2439758530401805,\n",
       "  0.2372303027273786,\n",
       "  0.24848330506655236,\n",
       "  0.25211241207543234,\n",
       "  0.26559400781537007,\n",
       "  0.26795080223958795,\n",
       "  0.23787706022398136,\n",
       "  0.2554281689440826],\n",
       " 0.24458420684835783,\n",
       " [0.03773584905660378,\n",
       "  0.03773584905660378,\n",
       "  0.03773584905660378,\n",
       "  0.037735849056603765,\n",
       "  0.03773584905660378,\n",
       "  0.03773584905660378,\n",
       "  0.0377358490566038,\n",
       "  0.03773584905660378,\n",
       "  0.03773584905660378,\n",
       "  0.03773584905660378],\n",
       " 10,\n",
       " [9, 9, 10, 9, 10, 9, 9, 9, 9, 9])"
      ]
     },
     "execution_count": 23,
     "metadata": {},
     "output_type": "execute_result"
    }
   ],
   "source": [
    "generate_random_compare(10, \"eco_edges.txt\",True)"
   ]
  },
  {
   "cell_type": "code",
   "execution_count": 29,
   "metadata": {},
   "outputs": [
    {
     "data": {
      "image/png": "[encoded data removed]",
      "text/plain": [
       "<Figure size 432x288 with 1 Axes>"
      ]
     },
     "metadata": {
      "needs_background": "light"
     },
     "output_type": "display_data"
    }
   ],
   "source": [
    "G = nx.read_edgelist(\"eco_edges.txt\")\n",
    "\n",
    "L = nx.degree_histogram(G)\n",
    "\n",
    "plt.bar(range(len(L)),L, width=0.80, color='b')\n",
    "plt.title(\"Ecological Network\")\n",
    "plt.xscale(\"log\", nonposx='clip')\n",
    "plt.yscale(\"log\", nonposy = 'clip')\n",
    "plt.ylabel(\"Count\")\n",
    "plt.xlabel(\"Degree\")\n",
    "plt.show()\n"
   ]
  },
  {
   "cell_type": "markdown",
   "metadata": {},
   "source": [
    "El grafo no sigue una distribución libre de grado. Empezamos bien."
   ]
  },
  {
   "cell_type": "code",
   "execution_count": 31,
   "metadata": {},
   "outputs": [
    {
     "data": {
      "image/png": "[encoded data removed]",
      "text/plain": [
       "<Figure size 432x288 with 1 Axes>"
      ]
     },
     "metadata": {
      "needs_background": "light"
     },
     "output_type": "display_data"
    }
   ],
   "source": [
    "G_AL = nx.gnm_random_graph( (nx.number_of_nodes(G)), (nx.number_of_edges(G)) )\n",
    "\n",
    "L = nx.degree_histogram(G_AL)\n",
    "\n",
    "plt.bar(range(len(L)),L, width=0.80, color='b')\n",
    "plt.title(\"Random Histogram\")\n",
    "plt.ylabel(\"Count\")\n",
    "plt.xlabel(\"Degree\")\n",
    "plt.show()\n"
   ]
  },
  {
   "cell_type": "markdown",
   "metadata": {},
   "source": [
    "Y encima el grafo aleatorio para ese número de nodos sí sale con valores típicos para un grafo aleatorio\n"
   ]
  },
  {
   "cell_type": "code",
   "execution_count": 35,
   "metadata": {},
   "outputs": [],
   "source": [
    "def L_C_Aleatorio(n_graph,n,p):\n",
    "    L = []\n",
    "    C = []\n",
    "    for i in range(n_graph):\n",
    "        G = nx.gnp_random_graph(n,p)\n",
    "        C.append(nx.average_clustering(G))\n",
    "        if not nx.is_connected(G):\n",
    "            L.append(n-1)\n",
    "        else:\n",
    "            L.append(nx.average_shortest_path_length(G))\n",
    "    return statistics.mean(L), statistics.mean(C)\n",
    "\n",
    "# Llamamos a L_C_Aleatorio tantas veces cómo distintas probabilidades queremos probar.\n",
    "\n",
    "p = [0,0.0001,0.0003,0.0006,0.001,0.003,0.006,0.01,0.03,0.06,0.1,0.3,0.6,1.]\n",
    "L_r = []\n",
    "C_r = []\n",
    "for i in p:\n",
    "    x = L_C_Aleatorio(7, (nx.number_of_nodes(G)), i)\n",
    "    L_r.append(x[0]) \n",
    "    C_r.append(x[1])        "
   ]
  },
  {
   "cell_type": "code",
   "execution_count": 44,
   "metadata": {},
   "outputs": [
    {
     "data": {
      "image/png": "[encoded data removed]",
      "text/plain": [
       "<Figure size 432x288 with 1 Axes>"
      ]
     },
     "metadata": {
      "needs_background": "light"
     },
     "output_type": "display_data"
    }
   ],
   "source": [
    "color = 'b'\n",
    "plt.xlabel(\"p\")\n",
    "plt.title(\"L en función de p en grafos aleatorios (log/log)\", fontweight='bold')\n",
    "plt.xscale(\"log\", nonposx='clip')\n",
    "plt.yscale(\"log\", nonposy = 'clip')\n",
    "\n",
    "plt.ylabel('Camino característico')\n",
    "plt.plot(p, L_r, color=color)\n",
    "\n",
    "plt.show()"
   ]
  },
  {
   "cell_type": "code",
   "execution_count": 37,
   "metadata": {},
   "outputs": [
    {
     "data": {
      "image/png": "[encoded data removed]",
      "text/plain": [
       "<Figure size 432x288 with 1 Axes>"
      ]
     },
     "metadata": {
      "needs_background": "light"
     },
     "output_type": "display_data"
    }
   ],
   "source": [
    "plt.plot(p, C_r, color = 'r')\n",
    "plt.title(\"C en función de p en grafos aleatorios\", fontweight='bold')\n",
    "plt.xlabel('p')\n",
    "plt.ylabel('Índice de clusterización')\n",
    "plt.show()"
   ]
  },
  {
   "cell_type": "code",
   "execution_count": 38,
   "metadata": {},
   "outputs": [],
   "source": [
    "def L_C_small_world(n_graph,n,k,p):\n",
    "    L = []\n",
    "    C = []\n",
    "    for i in range(n_graph):\n",
    "        G = nx.watts_strogatz_graph(n,k,p)\n",
    "        C.append(nx.average_clustering(G))\n",
    "        if not nx.is_connected(G):\n",
    "            L.append(n-1)\n",
    "        else:\n",
    "            L.append(nx.average_shortest_path_length(G))\n",
    "    return statistics.mean(L), statistics.mean(C)\n",
    "\n",
    "# Llamamos a L_C_small_world tantas veces cómo distintas probabilidades queremos probar.\n",
    "\n",
    "p = [0,0.0001,0.0003,0.0006,0.001,0.003,0.006,0.01,0.03,0.06,0.1,0.3,0.6,1.]\n",
    "L_s = []\n",
    "C_s = []\n",
    "for i in p:\n",
    "    x = L_C_small_world(7,(nx.number_of_nodes(G)), 8, i)\n",
    "    L_s.append(x[0])\n",
    "    C_s.append(x[1])  "
   ]
  },
  {
   "cell_type": "code",
   "execution_count": 40,
   "metadata": {},
   "outputs": [
    {
     "data": {
      "image/png": "[encoded data removed]",
      "text/plain": [
       "<Figure size 432x288 with 2 Axes>"
      ]
     },
     "metadata": {
      "needs_background": "light"
     },
     "output_type": "display_data"
    }
   ],
   "source": [
    "fig, ax1 = plt.subplots()\n",
    "\n",
    "color = 'b'\n",
    "ax1.set_xlabel(\"P\")\n",
    "plt.xscale(\"log\", nonposx='clip')\n",
    "plt.title(\"Cambio en el comportamiento de L y C en Wattz-Strogatz\")\n",
    "\n",
    "ax1.set_ylabel('Camino característico', color=color)\n",
    "ax1.plot(p, L_s, color=color)\n",
    "ax1.tick_params(axis='y', labelcolor=color)\n",
    "\n",
    "ax2 = ax1.twinx()  # Iniciamos otro eje que comparte el mismo eje X que el primer eje\n",
    "\n",
    "color = 'r'\n",
    "ax2.set_ylabel('Índice de clusterización', color=color) \n",
    "ax2.plot(p, C_s, color=color)\n",
    "ax2.tick_params(axis='y', labelcolor=color)\n",
    "\n",
    "fig.tight_layout()  # esto sirve para que no haya clipping en el eje y\n",
    "plt.show()"
   ]
  },
  {
   "cell_type": "markdown",
   "metadata": {},
   "source": [
    "Aquí podemos ver que para un grafo con un número de nodos cómo nuestra red de estudio, para que fuera de mundo pequeño debería estar en un valor de P entre 0,01 y 0,1.\n",
    "\n",
    "\n",
    "Bueno, aquí tengo mis dudas porque habría que ver el número de ramas que tenemos y comparar con las que hay... \n",
    "\n",
    "\n",
    "Tampoco tengo muy claro si todo esto nos va a servir. Barabasi sí, para ver si es libre de escala. Pero small world no lo se. Igual sólo habría que calcularlo para uno grafo aleatorio. De todas formas habría que repetir estos cálculas unas cuantas veces. Mil no, porque nos quedamos sin PC, pero quizás 100 veces sí. "
   ]
  },
  {
   "cell_type": "code",
   "execution_count": 42,
   "metadata": {},
   "outputs": [
    {
     "name": "stdout",
     "output_type": "stream",
     "text": [
      "El valor de C es: 0.43918279856712805\n",
      "El valor de L es: 1.7009084556254368\n"
     ]
    }
   ],
   "source": [
    "G_ba = nx.barabasi_albert_graph((nx.number_of_nodes(G)), 10)\n",
    "print(\"El valor de C es:\", nx.average_clustering(G_ba))\n",
    "print(\"El valor de L es:\", nx.average_shortest_path_length(G_ba))\n",
    "\n"
   ]
  },
  {
   "cell_type": "code",
   "execution_count": 43,
   "metadata": {},
   "outputs": [
    {
     "data": {
      "image/png": "[encoded data removed]",
      "text/plain": [
       "<Figure size 432x288 with 1 Axes>"
      ]
     },
     "metadata": {
      "needs_background": "light"
     },
     "output_type": "display_data"
    }
   ],
   "source": [
    "k = nx.degree_histogram(G_ba)\n",
    "\n",
    "plt.bar(range(len(k)),k, width=0.80, color='b')\n",
    "plt.title(\"Regular Graph\")\n",
    "plt.xscale(\"log\", nonposx='clip')\n",
    "plt.yscale(\"log\", nonposy = 'clip')\n",
    "plt.ylabel(\"Count\")\n",
    "plt.xlabel(\"Degree\")\n",
    "plt.show()\n",
    "\n"
   ]
  },
  {
   "cell_type": "markdown",
   "metadata": {},
   "source": [
    "Aquí podemos comparar un gráfico de barabasi que es libre de escala con el gráfico obtenido anteriormente y ver cómo para el número de nodos que tenemos, no es común el tipo de grafo obtenido."
   ]
  }
 ],
 "metadata": {
  "kernelspec": {
   "display_name": "Python 3",
   "language": "python",
   "name": "python3"
  },
  "language_info": {
   "codemirror_mode": {
    "name": "ipython",
    "version": 3
   },
   "file_extension": ".py",
   "mimetype": "text/x-python",
   "name": "python",
   "nbconvert_exporter": "python",
   "pygments_lexer": "ipython3",
   "version": "3.7.3"
  }
 },
 "nbformat": 4,
 "nbformat_minor": 2
}
